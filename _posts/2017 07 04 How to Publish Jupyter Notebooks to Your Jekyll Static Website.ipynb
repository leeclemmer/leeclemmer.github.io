{
 "cells": [
  {
   "cell_type": "markdown",
   "metadata": {},
   "source": [
    "This post was written in a Jupyter Notebook. Here's how I got it onto my Jekyll website. \n",
    "\n",
    "[Venture here](https://gist.github.com/tgarc/7d6901858ef708030c19) and download the following GitHub gists (thanks to [cscorley](https://github.com/cscorley) and [tgarc](https://github.com/tgarc) for putting these together): `jekyll.py` and `jekyll.tpl`. \n",
    "* I put the **`jekyll.py`** file in my GitHub pages folder (i.e. `~/username.github.io/`). Make sure you read the comments and update the settings where appropriate.\n",
    "* The **`jekyll.tpl`** file is a template file that we'll give to Jupyter to convert our notebook, so put it somewhere you put your Jupyter templates.\n",
    "\n",
    "Go over to your `~/username.github.io/_posts` folder and fire up Jupyter:\n",
    "\n",
    "```\n",
    "~/username.github.io/_posts $ jupyter notebook\n",
    "```\n",
    "\n",
    "Once you're finished writing your notebook, save it, then convert it using the jekyll.tpl template:\n",
    "\n",
    "```\n",
    "~/username.github.io/_posts $ jupyter nbconvert --to markdown <notebook_filename>.ipynb --config ../jekyll.py\n",
    "```\n",
    "\n",
    "**Tip:** Jekyll needs your post markdown files named in a specific way in order to pick them up to build, i.e. \"YYYY-MM-DD-title-of-blogpost.md\". If you name your notebook with that in mind (e.g. \"2017 07 04 How to Publish Jupyter Notebooks to Your Jekyll Static Website\"), it will automatically be in the right file name format when you convert it. Once your finished editing just update the title of the post in the markdown file.\n",
    "\n",
    "**About Images:** When Jupyter converts the notebook, it saves images into a sub-directory of the current directory (in our case, `_posts/`). Unfortunately there is a bug in Jekyll that throws an exception if it finds a `.png` file in the `_posts` folder ([read about the issue here](https://github.com/jekyll/jekyll/issues/5181)). Pratically that means you have to cut+paste the images that were saved into the `/images/` folder in the root blog directly. If this issue gets fixed that shouldn't be a problem anymore and the `jekyll.py` code can be updated to point to the saved images in the sub-directory."
   ]
  },
  {
   "cell_type": "markdown",
   "metadata": {},
   "source": [
    "## Example"
   ]
  },
  {
   "cell_type": "code",
   "execution_count": 1,
   "metadata": {},
   "outputs": [],
   "source": [
    "# Normal Distribution\n",
    "import numpy as np\n",
    "import matplotlib.pyplot as plt\n",
    "%matplotlib inline"
   ]
  },
  {
   "cell_type": "code",
   "execution_count": 2,
   "metadata": {},
   "outputs": [
    {
     "data": {
      "image/png": "[encoded data removed]",
      "text/plain": [
       "<matplotlib.figure.Figure at 0x10bbf5210>"
      ]
     },
     "metadata": {},
     "output_type": "display_data"
    }
   ],
   "source": [
    "plt.hist(np.random.normal(size=100000), bins=30)\n",
    "plt.show()"
   ]
  }
 ],
 "metadata": {
  "hide_input": false,
  "kernelspec": {
   "display_name": "Python 2",
   "language": "python",
   "name": "python2"
  },
  "language_info": {
   "codemirror_mode": {
    "name": "ipython",
    "version": 2
   },
   "file_extension": ".py",
   "mimetype": "text/x-python",
   "name": "python",
   "nbconvert_exporter": "python",
   "pygments_lexer": "ipython2",
   "version": "2.7.13"
  }
 },
 "nbformat": 4,
 "nbformat_minor": 2
}
